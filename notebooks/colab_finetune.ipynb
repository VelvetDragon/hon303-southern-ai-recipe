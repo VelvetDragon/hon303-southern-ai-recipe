{
 "cells": [
  {
   "cell_type": "markdown",
   "metadata": {},
   "source": [
    "# Link for the notebook\n",
    "https://colab.research.google.com/drive/1k06nwVt3Z3a0vgi3VFh4mlgEROs2Mx_k?usp=sharing"
   ]
  },
  {
   "cell_type": "markdown",
   "metadata": {},
   "source": []
  }
 ],
 "metadata": {
  "language_info": {
   "name": "python"
  }
 },
 "nbformat": 4,
 "nbformat_minor": 2
}
