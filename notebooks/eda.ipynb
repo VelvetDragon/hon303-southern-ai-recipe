{
 "cells": [
  {
   "cell_type": "code",
   "execution_count": 2,
   "metadata": {},
   "outputs": [
    {
     "name": "stdout",
     "output_type": "stream",
     "text": [
      "Total recipes: 91\n"
     ]
    },
    {
     "data": {
      "text/html": [
       "<div>\n",
       "<style scoped>\n",
       "    .dataframe tbody tr th:only-of-type {\n",
       "        vertical-align: middle;\n",
       "    }\n",
       "\n",
       "    .dataframe tbody tr th {\n",
       "        vertical-align: top;\n",
       "    }\n",
       "\n",
       "    .dataframe thead th {\n",
       "        text-align: right;\n",
       "    }\n",
       "</style>\n",
       "<table border=\"1\" class=\"dataframe\">\n",
       "  <thead>\n",
       "    <tr style=\"text-align: right;\">\n",
       "      <th></th>\n",
       "      <th>title</th>\n",
       "      <th>ingredients</th>\n",
       "      <th>steps</th>\n",
       "    </tr>\n",
       "  </thead>\n",
       "  <tbody>\n",
       "    <tr>\n",
       "      <th>0</th>\n",
       "      <td>**CREOLE CASSEROLE**</td>\n",
       "      <td>[1 can English peas, drained, 1 cup grated Che...</td>\n",
       "      <td>[Season the white sauce with mustard, Durkee's...</td>\n",
       "    </tr>\n",
       "    <tr>\n",
       "      <th>1</th>\n",
       "      <td>**CRANBERRY SALAD SUPREME**</td>\n",
       "      <td>[3 cups raw cranberries, 2 1/2 cups water, 1 c...</td>\n",
       "      <td>[Cook cranberries, sugar, and water until the ...</td>\n",
       "    </tr>\n",
       "    <tr>\n",
       "      <th>2</th>\n",
       "      <td>**ICE BOX ROLLS**</td>\n",
       "      <td>[1 quart sweet milk, 1 cup shortening, 1 scant...</td>\n",
       "      <td>[Scald milk, then add melted shortening and su...</td>\n",
       "    </tr>\n",
       "    <tr>\n",
       "      <th>3</th>\n",
       "      <td>**PLANTER'S PLANTATION PUNCH**</td>\n",
       "      <td>[1 can (46 oz) orange juice, 1 can (46 oz) pin...</td>\n",
       "      <td>[Chill the punch bowl and juices., Place lemon...</td>\n",
       "    </tr>\n",
       "    <tr>\n",
       "      <th>4</th>\n",
       "      <td>**ASPARAGUS MOUSSE**</td>\n",
       "      <td>[2 tablespoons butter, 4 egg yolks, Juice of 1...</td>\n",
       "      <td>[Melt butter in a double boiler, stir in flour...</td>\n",
       "    </tr>\n",
       "  </tbody>\n",
       "</table>\n",
       "</div>"
      ],
      "text/plain": [
       "                            title  \\\n",
       "0            **CREOLE CASSEROLE**   \n",
       "1     **CRANBERRY SALAD SUPREME**   \n",
       "2               **ICE BOX ROLLS**   \n",
       "3  **PLANTER'S PLANTATION PUNCH**   \n",
       "4            **ASPARAGUS MOUSSE**   \n",
       "\n",
       "                                         ingredients  \\\n",
       "0  [1 can English peas, drained, 1 cup grated Che...   \n",
       "1  [3 cups raw cranberries, 2 1/2 cups water, 1 c...   \n",
       "2  [1 quart sweet milk, 1 cup shortening, 1 scant...   \n",
       "3  [1 can (46 oz) orange juice, 1 can (46 oz) pin...   \n",
       "4  [2 tablespoons butter, 4 egg yolks, Juice of 1...   \n",
       "\n",
       "                                               steps  \n",
       "0  [Season the white sauce with mustard, Durkee's...  \n",
       "1  [Cook cranberries, sugar, and water until the ...  \n",
       "2  [Scald milk, then add melted shortening and su...  \n",
       "3  [Chill the punch bowl and juices., Place lemon...  \n",
       "4  [Melt butter in a double boiler, stir in flour...  "
      ]
     },
     "metadata": {},
     "output_type": "display_data"
    }
   ],
   "source": [
    "import json, pandas as pd\n",
    "lines = [json.loads(l) for l in open(\"../data/processed/recipes_clean.jsonl\", encoding=\"utf-8\")]\n",
    "df = pd.DataFrame(lines)\n",
    "print(\"Total recipes:\", len(df))\n",
    "display(df.head())\n"
   ]
  },
  {
   "cell_type": "code",
   "execution_count": null,
   "metadata": {},
   "outputs": [],
   "source": []
  }
 ],
 "metadata": {
  "kernelspec": {
   "display_name": ".venv",
   "language": "python",
   "name": "python3"
  },
  "language_info": {
   "codemirror_mode": {
    "name": "ipython",
    "version": 3
   },
   "file_extension": ".py",
   "mimetype": "text/x-python",
   "name": "python",
   "nbconvert_exporter": "python",
   "pygments_lexer": "ipython3",
   "version": "3.12.7"
  }
 },
 "nbformat": 4,
 "nbformat_minor": 2
}
